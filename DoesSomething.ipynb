{
 "cells": [
  {
   "cell_type": "code",
   "execution_count": null,
   "metadata": {},
   "outputs": [],
   "source": [
    "import random\n",
    "def newstring(inputs, something):\n",
    "    new=\"\"\n",
    "    for x in range(inputs):\n",
    "        index1=random.randrange(0,len(something))\n",
    "        index2=random.randrange(0,len(something))\n",
    "        new=new+something[index1]+something[index2]\n",
    "    print(\"Here's your something: \"+new)\n",
    "def something():\n",
    "    name = input(\"What is your name?\")\n",
    "    food = input(\"What is your favorite food?\")\n",
    "    something = name+food[::-1]\n",
    "    print(something+\"\\nSomething™ has been done\")\n",
    "    done=False\n",
    "    while not done:\n",
    "        try:\n",
    "            somethingelse = int(input(\"Do you want Something™ Else™ to be done? (enter 1 for yes or 2 for no)\"))\n",
    "            if(somethingelse == 1 or somethingelse == 2):\n",
    "                done=True\n",
    "            else:\n",
    "                print(\"Your answer must be either 1 or 2\")\n",
    "        except:\n",
    "            print(\"Your answer must be a number\")\n",
    "    if(somethingelse==2):\n",
    "        print(\"oh... ok...\")\n",
    "    else:\n",
    "        done=False\n",
    "        while not done:\n",
    "            try:\n",
    "                inputs=int(input(\"Enter number of loops: \"))\n",
    "                if(inputs<0):\n",
    "                    print(\"The number can't be negative\")\n",
    "                else:\n",
    "                    done=True\n",
    "            except:\n",
    "                print(\"Your input must be an int.\")\n",
    "        newstring(inputs, something)\n",
    "def main():\n",
    "    something()\n",
    "if __name__ == \"__main__\":\n",
    "    main()"
   ]
  }
 ],
 "metadata": {
  "kernelspec": {
   "display_name": "Python 3",
   "language": "python",
   "name": "python3"
  },
  "language_info": {
   "codemirror_mode": {
    "name": "ipython",
    "version": 3
   },
   "file_extension": ".py",
   "mimetype": "text/x-python",
   "name": "python",
   "nbconvert_exporter": "python",
   "pygments_lexer": "ipython3",
   "version": "3.8.3"
  }
 },
 "nbformat": 4,
 "nbformat_minor": 4
}
